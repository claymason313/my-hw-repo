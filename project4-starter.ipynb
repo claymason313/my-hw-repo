{
 "cells": [
  {
   "cell_type": "markdown",
   "metadata": {},
   "source": [
    "# Project 4\n",
    "\n",
    "In this project, you will summarize and present your analysis from Projects 1-3."
   ]
  },
  {
   "cell_type": "markdown",
   "metadata": {},
   "source": [
    "### Intro: Write a problem Statement/ Specific Aim for this project"
   ]
  },
  {
   "cell_type": "markdown",
   "metadata": {},
   "source": [
    "Answer: Based on the UCLA admissions data, determine if there is any statistical significance of the relationship between admittance and the prestige of applicants' undergraduate schools while controlling for GRE and GPA. "
   ]
  },
  {
   "cell_type": "markdown",
   "metadata": {},
   "source": [
    "### Dataset:  Write up a description of your data and any cleaning that was completed"
   ]
  },
  {
   "cell_type": "markdown",
   "metadata": {},
   "source": [
    "Answer: The UCLA admissions data included 400 rows of data, of which 3 rows(187, 212, and 236) included null data points that were dropped from the sample. The data included the binary variable, admit, GRE scores, GPA, and a undergraduate school Prestige ranking of 1-4 with 4 being the least prestigious.GRE scores ranged from 220-800, while GPA scores ranged from 2.26-4.00. "
   ]
  },
  {
   "cell_type": "markdown",
   "metadata": {
    "collapsed": true
   },
   "source": [
    "### Demo: Provide a table that explains the data by admission status"
   ]
  },
  {
   "cell_type": "markdown",
   "metadata": {},
   "source": [
    "Mean (STD) or counts by admission status for each variable \n",
    "\n",
    "| Not Admitted | Admitted\n",
    "---| ---|---\n",
    "GPA | 3.35(.38)  | 3.49(.37)\n",
    "GRE | 573.58 (116.05) | 618.57(109.26)\n",
    "Prestige 1 | 28 (46%) | 33 (54%)\n",
    "Prestige 2 | 95 (54%) | 53 (36%)\n",
    "Prestige 3 | 93 (77%) | 28 (23%)\n",
    "Prestige 4 | 55 (72%) | 12 (18%)"
   ]
  },
  {
   "cell_type": "markdown",
   "metadata": {},
   "source": [
    "### Methods: Write up the methods used in your analysis"
   ]
  },
  {
   "cell_type": "markdown",
   "metadata": {},
   "source": [
    "Answer: After cleaning the data, we ran a regression of the admittance data to determine if there was any statistical significance between the relationship of undergraduate prestige and admittance. "
   ]
  },
  {
   "cell_type": "markdown",
   "metadata": {},
   "source": [
    "### Results: Write up your results"
   ]
  },
  {
   "cell_type": "markdown",
   "metadata": {},
   "source": [
    "Answer: Students from the most prestigious undergraduate schools were more likely to be admitted to UCLA. Based on the logit regression, tier 2 schools had half the odds of tier 1, while tier 3 and 4 had 26.2 and 21.1% of the odds of Tier 1 applicants. "
   ]
  },
  {
   "cell_type": "markdown",
   "metadata": {},
   "source": [
    "### Visuals: Provide a table or visualization of these results"
   ]
  },
  {
   "cell_type": "markdown",
   "metadata": {},
   "source": [
    "<img src='placeholder.png' height= 25% width= 25%>"
   ]
  },
  {
   "cell_type": "markdown",
   "metadata": {},
   "source": [
    "<img src='placeholder.png' height= 25% width= 25%>"
   ]
  },
  {
   "cell_type": "markdown",
   "metadata": {},
   "source": [
    "### Discussion: Write up your discussion and future steps"
   ]
  },
  {
   "cell_type": "markdown",
   "metadata": {},
   "source": [
    "Answer: The results were conclusive in that the prestige of the undergraduate program is statistically significant. If there is more data available aside from GRE, GPA, and undergraduate prestige, then it would be ideal to see if there are other factors that may have influenced the admittance statistics. Examples of other factors that could be explored could include demographics, location of undergraduate schools, previous work experience, etc. "
   ]
  }
 ],
 "metadata": {
  "kernelspec": {
   "display_name": "Python 3",
   "language": "python",
   "name": "python3"
  },
  "language_info": {
   "codemirror_mode": {
    "name": "ipython",
    "version": 3
   },
   "file_extension": ".py",
   "mimetype": "text/x-python",
   "name": "python",
   "nbconvert_exporter": "python",
   "pygments_lexer": "ipython3",
   "version": "3.6.1"
  }
 },
 "nbformat": 4,
 "nbformat_minor": 1
}
